{
 "cells": [
  {
   "cell_type": "code",
   "execution_count": 2,
   "metadata": {},
   "outputs": [],
   "source": [
    "import pandas as pd\n",
    "import mysql.connector\n",
    "from datetime import datetime, timedelta"
   ]
  },
  {
   "cell_type": "code",
   "execution_count": null,
   "metadata": {},
   "outputs": [],
   "source": [
    "def get_order_counts(at_date):\n",
    "    at_date = at_date.strftime('%Y-%m-%d %H:%M:%S')\n",
    "    cnx = mysql.connector.connect(\n",
    "        user='root', password='root', host='mysql', database='restaurant_data')\n",
    "    query = f\"\"\"\n",
    "SELECT \n",
    "    r.restaurant_id,\n",
    "    r.window_start,\n",
    "    r.window_end,\n",
    "    r.order_count\n",
    "FROM \n",
    "    restaurant_order_counts r\n",
    "INNER JOIN (\n",
    "    SELECT \n",
    "        restaurant_id,\n",
    "        MAX(window_end) as latest_window_end\n",
    "    FROM \n",
    "        restaurant_order_counts\n",
    "    WHERE \n",
    "        window_end <= '{at_date}'\n",
    "    GROUP BY \n",
    "        restaurant_id\n",
    ") latest ON r.restaurant_id = latest.restaurant_id \n",
    "    AND r.window_end = latest.latest_window_end\n",
    "ORDER BY \n",
    "    r.restaurant_id;\"\"\"\n",
    "\n",
    "    df = pd.read_sql(query, cnx)\n",
    "\n",
    "    return df\n",
    "\n",
    "df = get_order_counts(datetime.now()-timedelta(minutes=3))\n",
    "df\n"
   ]
  },
  {
   "cell_type": "code",
   "execution_count": null,
   "metadata": {},
   "outputs": [],
   "source": []
  }
 ],
 "metadata": {
  "kernelspec": {
   "display_name": ".venv",
   "language": "python",
   "name": "python3"
  },
  "language_info": {
   "codemirror_mode": {
    "name": "ipython",
    "version": 3
   },
   "file_extension": ".py",
   "mimetype": "text/x-python",
   "name": "python",
   "nbconvert_exporter": "python",
   "pygments_lexer": "ipython3",
   "version": "3.10.12"
  }
 },
 "nbformat": 4,
 "nbformat_minor": 2
}
